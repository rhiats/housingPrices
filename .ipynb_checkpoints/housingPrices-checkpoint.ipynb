{
 "cells": [
  {
   "cell_type": "markdown",
   "metadata": {},
   "source": [
    "# Predict Housing Prices using Ordinary Least Squares (OLS)"
   ]
  },
  {
   "cell_type": "code",
   "execution_count": 1,
   "metadata": {},
   "outputs": [],
   "source": [
    "import pandas as pd\n",
    "import seaborn as sns\n",
    "import matplotlib.pyplot as plt\n",
    "import numpy as np\n",
    "from scipy.stats import zscore\n",
    "from sklearn.model_selection import train_test_split\n",
    "import warnings\n",
    "warnings.filterwarnings(\"ignore\")"
   ]
  },
  {
   "cell_type": "code",
   "execution_count": 2,
   "metadata": {},
   "outputs": [
    {
     "data": {
      "text/plain": [
       "(1460, 81)"
      ]
     },
     "execution_count": 2,
     "metadata": {},
     "output_type": "execute_result"
    }
   ],
   "source": [
    "df=pd.read_csv(\"train.csv\")\n",
    "df.shape"
   ]
  },
  {
   "cell_type": "markdown",
   "metadata": {},
   "source": [
    "# Identify Categorical and Continuous Features & Plot Distributions\n",
    "\n",
    "Examples of Categorical Features: OverallCond, MSZoning, and SaleCondition\n",
    "\n",
    "Examples of Continuous Features: LotArea, GarageArea, and TotalBsmtSF"
   ]
  },
  {
   "cell_type": "code",
   "execution_count": 3,
   "metadata": {},
   "outputs": [
    {
     "data": {
      "image/png": "[encoded data removed]",
      "text/plain": [
       "<Figure size 360x360 with 1 Axes>"
      ]
     },
     "metadata": {
      "needs_background": "light"
     },
     "output_type": "display_data"
    },
    {
     "data": {
      "image/png": "[encoded data removed]",
      "text/plain": [
       "<Figure size 360x360 with 1 Axes>"
      ]
     },
     "metadata": {
      "needs_background": "light"
     },
     "output_type": "display_data"
    }
   ],
   "source": [
    "df1=df[['LotArea','GarageArea','TotalBsmtSF','OverallCond','MSZoning','SaleCondition','SalePrice']]\n",
    "\n",
    "\n",
    "def dist_plot(dataframe,col_arr):\n",
    "    \"\"\"\n",
    "        Given a column name,\n",
    "        save the distribution of the column\n",
    "    \"\"\"\n",
    "    for c in col_arr:\n",
    "        dist=sns.displot(dataframe, x=c)\n",
    "        plt.savefig('output/{}_distribution.png'.format(c))\n",
    "        \n",
    "dist_plot(df1,[\"LotArea\",\"OverallCond\"])"
   ]
  },
  {
   "cell_type": "markdown",
   "metadata": {},
   "source": [
    "# Pre-processing"
   ]
  },
  {
   "cell_type": "code",
   "execution_count": 4,
   "metadata": {},
   "outputs": [
    {
     "data": {
      "text/plain": [
       "LotArea        0\n",
       "GarageArea     0\n",
       "TotalBsmtSF    0\n",
       "MSZoning       0\n",
       "SalePrice      0\n",
       "dtype: int64"
      ]
     },
     "execution_count": 4,
     "metadata": {},
     "output_type": "execute_result"
    }
   ],
   "source": [
    "df2=df[['LotArea','GarageArea','TotalBsmtSF','MSZoning','SalePrice']]\n",
    "df2.isnull().sum()"
   ]
  },
  {
   "cell_type": "code",
   "execution_count": 5,
   "metadata": {},
   "outputs": [],
   "source": [
    "df2['Res'] = np.where(df['MSZoning'].isin(['RH','RL','RP','RM','FV']), 1, 0)"
   ]
  },
  {
   "cell_type": "code",
   "execution_count": 6,
   "metadata": {},
   "outputs": [],
   "source": [
    "#Try Log normarlization?\n",
    "column_names=['LotArea','GarageArea','TotalBsmtSF']\n",
    "\n",
    "def z_score(col_names_arr,dataframe):\n",
    "    \"\"\"\n",
    "        Given a column, return the z_score of the column\n",
    "    \"\"\"\n",
    "    for c in col_names_arr:\n",
    "        dataframe[c+'_zscore']=(dataframe[c] - dataframe[c].mean())/dataframe[c].std()\n",
    "        \n",
    "    return dataframe\n",
    "\n",
    "z_score(column_names,df2)\n",
    "\n",
    "df3=df2[['LotArea_zscore','GarageArea_zscore','TotalBsmtSF_zscore','Res']]\n",
    "y=df2['SalePrice']"
   ]
  },
  {
   "cell_type": "code",
   "execution_count": 7,
   "metadata": {},
   "outputs": [],
   "source": [
    "X_train, X_validate, y_train, y_validate = train_test_split(df3, y, test_size=0.2, random_state=42)"
   ]
  },
  {
   "cell_type": "markdown",
   "metadata": {},
   "source": [
    "# OLS without Library\n",
    "\n",
    "** Functions from lecture 3 slide notes"
   ]
  },
  {
   "cell_type": "code",
   "execution_count": 8,
   "metadata": {},
   "outputs": [
    {
     "data": {
      "text/html": [
       "<div>\n",
       "<style scoped>\n",
       "    .dataframe tbody tr th:only-of-type {\n",
       "        vertical-align: middle;\n",
       "    }\n",
       "\n",
       "    .dataframe tbody tr th {\n",
       "        vertical-align: top;\n",
       "    }\n",
       "\n",
       "    .dataframe thead th {\n",
       "        text-align: right;\n",
       "    }\n",
       "</style>\n",
       "<table border=\"1\" class=\"dataframe\">\n",
       "  <thead>\n",
       "    <tr style=\"text-align: right;\">\n",
       "      <th></th>\n",
       "      <th>LotArea_zscore</th>\n",
       "      <th>GarageArea_zscore</th>\n",
       "      <th>TotalBsmtSF_zscore</th>\n",
       "      <th>Res</th>\n",
       "    </tr>\n",
       "  </thead>\n",
       "  <tbody>\n",
       "    <tr>\n",
       "      <th>0</th>\n",
       "      <td>6730.505171</td>\n",
       "      <td>32959.091364</td>\n",
       "      <td>27957.538249</td>\n",
       "      <td>180702.39673</td>\n",
       "    </tr>\n",
       "  </tbody>\n",
       "</table>\n",
       "</div>"
      ],
      "text/plain": [
       "   LotArea_zscore  GarageArea_zscore  TotalBsmtSF_zscore           Res\n",
       "0     6730.505171       32959.091364        27957.538249  180702.39673"
      ]
     },
     "execution_count": 8,
     "metadata": {},
     "output_type": "execute_result"
    }
   ],
   "source": [
    "theta_best = np.linalg.inv(X_train.T.dot(X_train)).dot(X_train.T).dot(y_train)\n",
    "theta_best_df = pd.DataFrame(data=theta_best[np.newaxis, :], columns=X_train.columns)\n",
    "theta_best_df"
   ]
  },
  {
   "cell_type": "markdown",
   "metadata": {},
   "source": [
    "# OLS Validation: Mean Square Error"
   ]
  },
  {
   "cell_type": "code",
   "execution_count": 9,
   "metadata": {},
   "outputs": [],
   "source": [
    "def pred(X, theta):\n",
    "    \"\"\"The linear model we are trying to fit.\n",
    "    \n",
    "    Parameters:\n",
    "    theta (np.array): d-dimensional vector of parameters\n",
    "    X (np.array): (n,d)-dimensional data matrix\n",
    "    \n",
    "    Returns:\n",
    "    y_pred (np.array): n-dimensional vector of predicted targets\n",
    "    \"\"\"\n",
    "    return X.dot(theta)\n",
    "\n",
    "y_test_pred = pred(X_validate,theta_best)"
   ]
  },
  {
   "cell_type": "code",
   "execution_count": 10,
   "metadata": {},
   "outputs": [
    {
     "data": {
      "text/plain": [
       "'The mean square error is 1666672272.748033'"
      ]
     },
     "execution_count": 10,
     "metadata": {},
     "output_type": "execute_result"
    }
   ],
   "source": [
    "def mean_squared_error(theta, X, y,pred_val):\n",
    "    \"\"\"The cost function, J, describing the goodness of fit.\n",
    "    \n",
    "    Parameters:\n",
    "    theta (np.array): d-dimensional vector of parameters\n",
    "    X (np.array): (n,d)-dimensional design matrix\n",
    "    y (np.array): n-dimensional vector of targets\n",
    "    \"\"\"\n",
    "    return 0.5*np.mean((y-pred_val)**2)\n",
    "\n",
    "mse=mean_squared_error(theta_best_df, X_validate, y_validate, y_test_pred)\n",
    "\"The mean square error is {}\".format(mse)"
   ]
  },
  {
   "cell_type": "code",
   "execution_count": null,
   "metadata": {},
   "outputs": [],
   "source": []
  }
 ],
 "metadata": {
  "kernelspec": {
   "display_name": "Python 3",
   "language": "python",
   "name": "python3"
  },
  "language_info": {
   "codemirror_mode": {
    "name": "ipython",
    "version": 3
   },
   "file_extension": ".py",
   "mimetype": "text/x-python",
   "name": "python",
   "nbconvert_exporter": "python",
   "pygments_lexer": "ipython3",
   "version": "3.6.4"
  }
 },
 "nbformat": 4,
 "nbformat_minor": 4
}
